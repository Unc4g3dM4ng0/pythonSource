{
  "cells": [
    {
      "cell_type": "code",
      "source": [
        "from pysb import *\n",
        "from pysb.integrate import Solver\n",
        "from pysb.simulator import ScipyOdeSimulator \n",
        "from pysb.simulator.base import Simulator, SimulationResult\n",
        "import scipy\n",
        "import scipy.integrate\n",
        "import pylab as pl\n",
        "import numpy as np\n",
        "import sympy\n",
        "\n",
        "import matplotlib as mpl\n",
        "import matplotlib.pyplot as plt\n",
        "%matplotlib inline"
      ],
      "outputs": [],
      "execution_count": 108,
      "metadata": {
        "collapsed": false,
        "outputHidden": false,
        "inputHidden": false
      }
    },
    {
      "cell_type": "markdown",
      "source": [
        "# Gliaden Degrader \n",
        "### pySB Kinetic Model"
      ],
      "metadata": {}
    },
    {
      "cell_type": "markdown",
      "source": [
        "1 mM (millimolar) = 602,214 molecules/fL (molecules per femtoliter)<br>\n",
        "1 uM (micromolar) = 602 molecules/fL<br>\n",
        "1 nM (nanomolar) = 0.6 molecules/fL<br>\n",
        "E. coli volume = 1.1 fL\n",
        "\n\n\n"
      ],
      "metadata": {}
    },
    {
      "cell_type": "markdown",
      "source": [
        "## Model Declaration"
      ],
      "metadata": {}
    },
    {
      "cell_type": "code",
      "source": [
        "Model()\n",
        "\n",
        "#Monomers\n",
        "\n",
        "Monomer('activeGliadin', ['b', 'immunogenic'], {'immunogenic': ['yes','no']})\n",
        "Monomer('cleavedGliadin', ['immunogenic'])\n",
        "Monomer('kumamax', ['b'])\n",
        "\n",
        "#Parameters\n",
        "\n",
        "Parameter('pHsys', 4)\n",
        "Parameter('k_obs', 0.00328545) #@PQ\n",
        "Parameter('k_tot', 0.00141718) #estimated from half-life equation\n",
        "Parameter('init_activeG_conc', 0.001) #initial gliadin concentration = mol/L\n",
        "Parameter('init_cleavedG_conc', 0.000) #initial cleaved gliadin \n",
        "Parameter('init_Kuma_Conc', 3.6e-06) #initial enzyme concentration \n",
        "\n",
        "#Rules\n",
        "\n",
        "Rule('enzyme_binds_gliadin', activeGliadin(b=None, immunogenic='yes') + kumamax(b=None) >> activeGliadin(b=1, immunogenic='no') % kumamax(b=1), k_obs)\n",
        "\n",
        "Rule('enzyme_cleaves_gliadin', activeGliadin(b=1, immunogenic='no') % kumamax(b=1) >> cleavedGliadin(immunogenic='no') + kumamax(b=None) + activeGliadin(b=None, immunogenic='yes'), k_tot) \n",
        "\n",
        "#Boundary Conditions\n",
        "\n",
        "Initial(activeGliadin(b=None, immunogenic='yes'), init_activeG_conc) #concentration - mol/L\n",
        "Initial(kumamax(b=None), init_Kuma_Conc) #mol/L\n",
        "Initial(cleavedGliadin(immunogenic='no'), init_cleavedG_conc)\n",
        "\n\n",
        "Observable('obsImmunogenicGliadin', activeGliadin(b=None, immunogenic='yes'))\n",
        "Observable('obsDegradedGliadin', cleavedGliadin(immunogenic='no'))\n",
        "\n"
      ],
      "outputs": [
        {
          "output_type": "execute_result",
          "execution_count": 118,
          "data": {
            "text/plain": [
              "Observable('obsDegradedGliadin', cleavedGliadin(immunogenic='no'))"
            ]
          },
          "metadata": {}
        }
      ],
      "execution_count": 118,
      "metadata": {
        "collapsed": false,
        "outputHidden": false,
        "inputHidden": false
      }
    },
    {
      "cell_type": "markdown",
      "source": [
        "Solver initialization"
      ],
      "metadata": {}
    },
    {
      "cell_type": "code",
      "source": [
        "t = np.linspace(0, 50, 5)\n",
        "scipysim = ScipyOdeSimulator(Model).run(tspan=t)\n",
        "yout = scipysim.all\n"
      ],
      "outputs": [
        {
          "output_type": "error",
          "ename": "AttributeError",
          "evalue": "type object 'Model' has no attribute 'odes'",
          "traceback": [
            "\u001b[0;31m---------------------------------------------------------------------------\u001b[0m",
            "\u001b[0;31mAttributeError\u001b[0m                            Traceback (most recent call last)",
            "\u001b[0;32m<ipython-input-119-e27018e0b5a3>\u001b[0m in \u001b[0;36m<module>\u001b[0;34m()\u001b[0m\n\u001b[1;32m      1\u001b[0m \u001b[0mt\u001b[0m \u001b[0;34m=\u001b[0m \u001b[0mnp\u001b[0m\u001b[0;34m.\u001b[0m\u001b[0mlinspace\u001b[0m\u001b[0;34m(\u001b[0m\u001b[0;36m0\u001b[0m\u001b[0;34m,\u001b[0m \u001b[0;36m50\u001b[0m\u001b[0;34m,\u001b[0m \u001b[0;36m5\u001b[0m\u001b[0;34m)\u001b[0m\u001b[0;34m\u001b[0m\u001b[0m\n\u001b[0;32m----> 2\u001b[0;31m \u001b[0mscipysim\u001b[0m \u001b[0;34m=\u001b[0m \u001b[0mScipyOdeSimulator\u001b[0m\u001b[0;34m(\u001b[0m\u001b[0mModel\u001b[0m\u001b[0;34m)\u001b[0m\u001b[0;34m.\u001b[0m\u001b[0mrun\u001b[0m\u001b[0;34m(\u001b[0m\u001b[0mtspan\u001b[0m\u001b[0;34m=\u001b[0m\u001b[0mt\u001b[0m\u001b[0;34m)\u001b[0m\u001b[0;34m\u001b[0m\u001b[0m\n\u001b[0m\u001b[1;32m      3\u001b[0m \u001b[0myout\u001b[0m \u001b[0;34m=\u001b[0m \u001b[0mscipysim\u001b[0m\u001b[0;34m.\u001b[0m\u001b[0mall\u001b[0m\u001b[0;34m\u001b[0m\u001b[0m\n",
            "\u001b[0;32m/Users/alexandermangas/anaconda3/lib/python3.6/site-packages/pysb/simulator/scipyode.py\u001b[0m in \u001b[0;36m__init__\u001b[0;34m(self, model, tspan, initials, param_values, verbose, **kwargs)\u001b[0m\n\u001b[1;32m    130\u001b[0m         \u001b[0mintegrator\u001b[0m \u001b[0;34m=\u001b[0m \u001b[0mkwargs\u001b[0m\u001b[0;34m.\u001b[0m\u001b[0mget\u001b[0m\u001b[0;34m(\u001b[0m\u001b[0;34m'integrator'\u001b[0m\u001b[0;34m,\u001b[0m \u001b[0;34m'vode'\u001b[0m\u001b[0;34m)\u001b[0m\u001b[0;34m\u001b[0m\u001b[0m\n\u001b[1;32m    131\u001b[0m         \u001b[0;31m# Generate the equations for the model\u001b[0m\u001b[0;34m\u001b[0m\u001b[0;34m\u001b[0m\u001b[0m\n\u001b[0;32m--> 132\u001b[0;31m         \u001b[0mpysb\u001b[0m\u001b[0;34m.\u001b[0m\u001b[0mbng\u001b[0m\u001b[0;34m.\u001b[0m\u001b[0mgenerate_equations\u001b[0m\u001b[0;34m(\u001b[0m\u001b[0mself\u001b[0m\u001b[0;34m.\u001b[0m\u001b[0m_model\u001b[0m\u001b[0;34m,\u001b[0m \u001b[0mself\u001b[0m\u001b[0;34m.\u001b[0m\u001b[0mcleanup\u001b[0m\u001b[0;34m,\u001b[0m \u001b[0mself\u001b[0m\u001b[0;34m.\u001b[0m\u001b[0mverbose\u001b[0m\u001b[0;34m)\u001b[0m\u001b[0;34m\u001b[0m\u001b[0m\n\u001b[0m\u001b[1;32m    133\u001b[0m \u001b[0;34m\u001b[0m\u001b[0m\n\u001b[1;32m    134\u001b[0m         \u001b[0;32mdef\u001b[0m \u001b[0m_eqn_substitutions\u001b[0m\u001b[0;34m(\u001b[0m\u001b[0meqns\u001b[0m\u001b[0;34m)\u001b[0m\u001b[0;34m:\u001b[0m\u001b[0;34m\u001b[0m\u001b[0m\n",
            "\u001b[0;32m/Users/alexandermangas/anaconda3/lib/python3.6/site-packages/pysb/bng.py\u001b[0m in \u001b[0;36mgenerate_equations\u001b[0;34m(model, cleanup, verbose)\u001b[0m\n\u001b[1;32m    520\u001b[0m     \u001b[0;31m# TODO track \"dirty\" state, i.e. \"has model been modified?\"\u001b[0m\u001b[0;34m\u001b[0m\u001b[0;34m\u001b[0m\u001b[0m\n\u001b[1;32m    521\u001b[0m     \u001b[0;31m#   or, use a separate \"math model\" object to contain ODEs\u001b[0m\u001b[0;34m\u001b[0m\u001b[0;34m\u001b[0m\u001b[0m\n\u001b[0;32m--> 522\u001b[0;31m     \u001b[0;32mif\u001b[0m \u001b[0mmodel\u001b[0m\u001b[0;34m.\u001b[0m\u001b[0modes\u001b[0m\u001b[0;34m:\u001b[0m\u001b[0;34m\u001b[0m\u001b[0m\n\u001b[0m\u001b[1;32m    523\u001b[0m         \u001b[0;32mreturn\u001b[0m\u001b[0;34m\u001b[0m\u001b[0m\n\u001b[1;32m    524\u001b[0m     \u001b[0mlines\u001b[0m \u001b[0;34m=\u001b[0m \u001b[0miter\u001b[0m\u001b[0;34m(\u001b[0m\u001b[0mgenerate_network\u001b[0m\u001b[0;34m(\u001b[0m\u001b[0mmodel\u001b[0m\u001b[0;34m,\u001b[0m\u001b[0mcleanup\u001b[0m\u001b[0;34m=\u001b[0m\u001b[0mcleanup\u001b[0m\u001b[0;34m,\u001b[0m\u001b[0mverbose\u001b[0m\u001b[0;34m=\u001b[0m\u001b[0mverbose\u001b[0m\u001b[0;34m)\u001b[0m\u001b[0;34m.\u001b[0m\u001b[0msplit\u001b[0m\u001b[0;34m(\u001b[0m\u001b[0;34m'\\n'\u001b[0m\u001b[0;34m)\u001b[0m\u001b[0;34m)\u001b[0m\u001b[0;34m\u001b[0m\u001b[0m\n",
            "\u001b[0;31mAttributeError\u001b[0m: type object 'Model' has no attribute 'odes'"
          ]
        }
      ],
      "execution_count": 119,
      "metadata": {
        "collapsed": false,
        "outputHidden": false,
        "inputHidden": false
      }
    },
    {
      "cell_type": "code",
      "source": [
        "plt.plot(t, scipysim[:, :], label='Immunogenic Gliadin Concentration')\n",
        "\n",
        "#pl.ion()\n",
        "#pl.figure()\n",
        "#pl.plot(t, yout['obsImmunogenicGliadin'], label=\"Immunogenic Gliadin\")\n",
        "#pl.plot(t, yout['obsDegradedGliadin'], label=\"Degraded Gliadin\")\n",
        "#pl.legend(loc=0)\n",
        "#pl.xlabel(\"Time (s)\")\n",
        "#pl.ylabel(\"Gliadin Concentration [M]\")\n",
        "#pl.show()"
      ],
      "outputs": [
        {
          "output_type": "error",
          "ename": "TypeError",
          "evalue": "'SimulationResult' object is not subscriptable",
          "traceback": [
            "\u001b[0;31m---------------------------------------------------------------------------\u001b[0m",
            "\u001b[0;31mTypeError\u001b[0m                                 Traceback (most recent call last)",
            "\u001b[0;32m<ipython-input-51-0b63b1685afb>\u001b[0m in \u001b[0;36m<module>\u001b[0;34m()\u001b[0m\n\u001b[0;32m----> 1\u001b[0;31m \u001b[0mplt\u001b[0m\u001b[0;34m.\u001b[0m\u001b[0mplot\u001b[0m\u001b[0;34m(\u001b[0m\u001b[0mt\u001b[0m\u001b[0;34m,\u001b[0m \u001b[0mscipysim\u001b[0m\u001b[0;34m[\u001b[0m\u001b[0;34m:\u001b[0m\u001b[0;34m,\u001b[0m \u001b[0;34m:\u001b[0m\u001b[0;34m]\u001b[0m\u001b[0;34m,\u001b[0m \u001b[0mlabel\u001b[0m\u001b[0;34m=\u001b[0m\u001b[0;34m'Immunogenic Gliadin Concentration'\u001b[0m\u001b[0;34m)\u001b[0m\u001b[0;34m\u001b[0m\u001b[0m\n\u001b[0m\u001b[1;32m      2\u001b[0m \u001b[0;34m\u001b[0m\u001b[0m\n\u001b[1;32m      3\u001b[0m \u001b[0;34m\u001b[0m\u001b[0m\n\u001b[1;32m      4\u001b[0m \u001b[0;34m\u001b[0m\u001b[0m\n\u001b[1;32m      5\u001b[0m \u001b[0;34m\u001b[0m\u001b[0m\n",
            "\u001b[0;31mTypeError\u001b[0m: 'SimulationResult' object is not subscriptable"
          ]
        }
      ],
      "execution_count": 51,
      "metadata": {
        "collapsed": false,
        "outputHidden": false,
        "inputHidden": false
      }
    },
    {
      "cell_type": "markdown",
      "source": [
        "### Model Assumptions:\n",
        "##### -1 active site on KumaMax\n",
        "\n\n"
      ],
      "metadata": {
        "collapsed": false,
        "outputHidden": false,
        "inputHidden": false
      }
    }
  ],
  "metadata": {
    "kernelspec": {
      "name": "python3",
      "language": "python",
      "display_name": "Python 3"
    },
    "kernel_info": {
      "name": "python3"
    },
    "language_info": {
      "name": "python",
      "version": "3.6.1",
      "mimetype": "text/x-python",
      "codemirror_mode": {
        "name": "ipython",
        "version": 3
      },
      "pygments_lexer": "ipython3",
      "nbconvert_exporter": "python",
      "file_extension": ".py"
    }
  },
  "nbformat": 4,
  "nbformat_minor": 4
}