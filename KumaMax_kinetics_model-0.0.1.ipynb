{
  "cells": [
    {
      "cell_type": "code",
      "source": [
        "from pysb import *\n",
        "from pysb.integrate import Solver\n",
        "from pysb.simulator import ScipyOdeSimulator\n",
        "import pylab as pl\n",
        "from __future__ import print_function\n",
        "%matplotlib inline"
      ],
      "outputs": [],
      "execution_count": 9,
      "metadata": {
        "collapsed": false,
        "outputHidden": false,
        "inputHidden": false
      }
    },
    {
      "cell_type": "markdown",
      "source": [
        "# Gliaden Degrader \n",
        "### pySB Kinetic Model"
      ],
      "metadata": {}
    },
    {
      "cell_type": "markdown",
      "source": [
        "1 mM (millimolar) = 602,214 molecules/fL (molecules per femtoliter)<br>\n",
        "1 uM (micromolar) = 602 molecules/fL<br>\n",
        "1 nM (nanomolar) = 0.6 molecules/fL<br>\n",
        "E. coli volume = 1.1 fL\n",
        "\n\n\n"
      ],
      "metadata": {}
    },
    {
      "cell_type": "code",
      "source": [
        "Model()\n",
        "\n",
        "#Chemical Species == Monomers \n",
        "Monomer('gliadin', ['glutenConc', 'immunogenic'], {'glutenConc': ['GFD','nGFD'], 'immunogenic': ['yes','no']})\n",
        "\n",
        "Monomer('kumamax', ['b', 'ligandBound'], {'ligandBound': ['yes','no']})\n",
        "#, 'pH': [2,4]\n",
        "\n",
        "Initial(gliadin(b=None, immunogenic = 'yes'))\n",
        "Initial(kumamax(b=None, ligandBound = 'no'))\n",
        " \n",
        "# Rate Constants (Parameters)\n",
        "\n",
        "Parameter('pH', 4)\n",
        "Parameter('K_m', 0.00120071 ) #@PE\n",
        "\n",
        "if(glutenIntake == nGFD) {\n",
        "    Parameter('gliadinConcentration', 7500) # ???\n",
        "} else {\n",
        "    Parameter('gliadinConcentration', 0)\n",
        "}\n",
        "#Parameter('K_max', 568)\n",
        "#Parameter('V_max', 0)\n",
        "\n\n\n\n\n",
        "#Rule('enzymeBindsGliadin', )\n",
        "#Rule('gliadinPeristalsis' )\n",
        "#Rule('gliadinBindsEnzyme', )\n",
        "Rule('cleaveGliadin', gliadin(b=None, immunogenic='yes')  >> gliadin(b=None, immunogenic='no'), K_m)\n",
        "#Rule('immuneResponse')\n",
        "\n\n\nInitial(gliadin)"
      ],
      "outputs": [
        {
          "output_type": "stream",
          "name": "stderr",
          "text": [
            "/Users/alexandermangas/anaconda3/lib/python3.6/site-packages/ipykernel/__main__.py:1: ModelExistsWarning: Redefining model! (You can probably ignore this if you are running code interactively)\n",
            "  if __name__ == '__main__':\n"
          ]
        },
        {
          "output_type": "error",
          "ename": "Exception",
          "evalue": "Non-string state values in site_states for sites: ['pH']",
          "traceback": [
            "\u001b[0;31m---------------------------------------------------------------------------\u001b[0m",
            "\u001b[0;31mException\u001b[0m                                 Traceback (most recent call last)",
            "\u001b[0;32m<ipython-input-11-a85bc0add001>\u001b[0m in \u001b[0;36m<module>\u001b[0;34m()\u001b[0m\n\u001b[1;32m      4\u001b[0m \u001b[0mMonomer\u001b[0m\u001b[0;34m(\u001b[0m\u001b[0;34m'gliadin'\u001b[0m\u001b[0;34m,\u001b[0m \u001b[0;34m[\u001b[0m\u001b[0;34m'b'\u001b[0m\u001b[0;34m,\u001b[0m \u001b[0;34m'immunogenic'\u001b[0m\u001b[0;34m]\u001b[0m\u001b[0;34m,\u001b[0m \u001b[0;34m{\u001b[0m\u001b[0;34m'immunogenic'\u001b[0m\u001b[0;34m:\u001b[0m \u001b[0;34m[\u001b[0m\u001b[0;34m'yes'\u001b[0m\u001b[0;34m,\u001b[0m\u001b[0;34m'no'\u001b[0m\u001b[0;34m]\u001b[0m\u001b[0;34m}\u001b[0m\u001b[0;34m)\u001b[0m\u001b[0;34m\u001b[0m\u001b[0m\n\u001b[1;32m      5\u001b[0m \u001b[0;34m\u001b[0m\u001b[0m\n\u001b[0;32m----> 6\u001b[0;31m \u001b[0mMonomer\u001b[0m\u001b[0;34m(\u001b[0m\u001b[0;34m'kumamax'\u001b[0m\u001b[0;34m,\u001b[0m \u001b[0;34m[\u001b[0m\u001b[0;34m'gliadinBound'\u001b[0m\u001b[0;34m,\u001b[0m \u001b[0;34m'b'\u001b[0m\u001b[0;34m,\u001b[0m \u001b[0;34m'pH'\u001b[0m\u001b[0;34m]\u001b[0m\u001b[0;34m,\u001b[0m \u001b[0;34m{\u001b[0m\u001b[0;34m'gliadinBound'\u001b[0m\u001b[0;34m:\u001b[0m \u001b[0;34m[\u001b[0m\u001b[0;34m'yes'\u001b[0m\u001b[0;34m,\u001b[0m\u001b[0;34m'no'\u001b[0m\u001b[0;34m]\u001b[0m\u001b[0;34m,\u001b[0m \u001b[0;34m'pH'\u001b[0m\u001b[0;34m:\u001b[0m \u001b[0;34m[\u001b[0m\u001b[0;36m2\u001b[0m\u001b[0;34m,\u001b[0m\u001b[0;36m4\u001b[0m\u001b[0;34m]\u001b[0m\u001b[0;34m}\u001b[0m\u001b[0;34m)\u001b[0m\u001b[0;34m\u001b[0m\u001b[0m\n\u001b[0m\u001b[1;32m      7\u001b[0m \u001b[0;34m\u001b[0m\u001b[0m\n\u001b[1;32m      8\u001b[0m \u001b[0;31m# Rate Constants (Parameters)\u001b[0m\u001b[0;34m\u001b[0m\u001b[0;34m\u001b[0m\u001b[0m\n",
            "\u001b[0;32m/Users/alexandermangas/anaconda3/lib/python3.6/site-packages/pysb/core.py\u001b[0m in \u001b[0;36m__init__\u001b[0;34m(self, name, sites, site_states, _export)\u001b[0m\n\u001b[1;32m    268\u001b[0m         \u001b[0;32mif\u001b[0m \u001b[0minvalid_sites\u001b[0m\u001b[0;34m:\u001b[0m\u001b[0;34m\u001b[0m\u001b[0m\n\u001b[1;32m    269\u001b[0m             raise Exception(\"Non-string state values in site_states for \"\n\u001b[0;32m--> 270\u001b[0;31m                             \"sites: \" + str(invalid_sites))\n\u001b[0m\u001b[1;32m    271\u001b[0m \u001b[0;34m\u001b[0m\u001b[0m\n\u001b[1;32m    272\u001b[0m         \u001b[0mself\u001b[0m\u001b[0;34m.\u001b[0m\u001b[0msites\u001b[0m \u001b[0;34m=\u001b[0m \u001b[0mlist\u001b[0m\u001b[0;34m(\u001b[0m\u001b[0msites\u001b[0m\u001b[0;34m)\u001b[0m\u001b[0;34m\u001b[0m\u001b[0m\n",
            "\u001b[0;31mException\u001b[0m: Non-string state values in site_states for sites: ['pH']"
          ]
        }
      ],
      "execution_count": 11,
      "metadata": {
        "collapsed": false,
        "outputHidden": false,
        "inputHidden": false
      }
    },
    {
      "cell_type": "markdown",
      "source": [
        "### Model Assumptions:\n",
        "##### -1 active site on KumaMax\n",
        "\n\n"
      ],
      "metadata": {
        "collapsed": false,
        "outputHidden": false,
        "inputHidden": false
      }
    },
    {
      "cell_type": "markdown",
      "source": [
        "kumamaxQuantity\n"
      ],
      "metadata": {}
    },
    {
      "cell_type": "code",
      "source": [],
      "outputs": [],
      "execution_count": null,
      "metadata": {
        "collapsed": false,
        "outputHidden": false,
        "inputHidden": false
      }
    }
  ],
  "metadata": {
    "kernelspec": {
      "name": "python3",
      "language": "python",
      "display_name": "Python 3"
    },
    "kernel_info": {
      "name": "python3"
    },
    "language_info": {
      "name": "python",
      "version": "3.6.1",
      "mimetype": "text/x-python",
      "codemirror_mode": {
        "name": "ipython",
        "version": 3
      },
      "pygments_lexer": "ipython3",
      "nbconvert_exporter": "python",
      "file_extension": ".py"
    }
  },
  "nbformat": 4,
  "nbformat_minor": 4
}